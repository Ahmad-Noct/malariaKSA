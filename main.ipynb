{
 "cells": [
  {
   "cell_type": "markdown",
   "id": "916bbc76-afa7-45ff-81d2-2ce04f6fad0a",
   "metadata": {
    "tags": []
   },
   "source": [
    "## Preparing python"
   ]
  },
  {
   "cell_type": "code",
   "execution_count": 1,
   "id": "74bbbe1f-2cf4-4fd5-9cc3-c55c12ffe3b0",
   "metadata": {
    "tags": []
   },
   "outputs": [],
   "source": [
    "import pandas as pd , numpy as np , seaborn as sns "
   ]
  },
  {
   "cell_type": "markdown",
   "id": "c30847b9-e91a-4dea-9d4b-0d0bf147ebe7",
   "metadata": {
    "jp-MarkdownHeadingCollapsed": true,
    "tags": []
   },
   "source": [
    "### Reading main dataframe"
   ]
  },
  {
   "cell_type": "code",
   "execution_count": 2,
   "id": "d85f7746-17ba-4ec8-b622-9eb97755066c",
   "metadata": {
    "tags": []
   },
   "outputs": [],
   "source": [
    "df18 = pd.read_excel('D:\\projects\\malaria\\malariaKSA\\data\\malariadata.xlsx',\n",
    "                       sheet_name= 0 , header=5 , index_col=1, \n",
    "                     skipfooter= 2 )"
   ]
  },
  {
   "cell_type": "code",
   "execution_count": 3,
   "id": "9b14731f-3ed1-4c24-8091-ce964db20e8e",
   "metadata": {
    "tags": []
   },
   "outputs": [],
   "source": [
    "df19 = pd.read_excel('D:\\projects\\malaria\\malariaKSA\\data\\malariadata.xlsx',\n",
    "                       sheet_name= 1 , header=5 , index_col=1, \n",
    "                    skipfooter= 2)"
   ]
  },
  {
   "cell_type": "code",
   "execution_count": 4,
   "id": "11bc82c9-80a9-4ea3-a1bc-d093050d5ab1",
   "metadata": {
    "tags": []
   },
   "outputs": [],
   "source": [
    "df20 = pd.read_excel('D:\\projects\\malaria\\malariaKSA\\data\\malariadata.xlsx',\n",
    "                       sheet_name= 2 , header=6 , index_col=1, \n",
    "                    skipfooter= 2)"
   ]
  },
  {
   "cell_type": "code",
   "execution_count": 5,
   "id": "373123bb-118e-44b8-9a44-744947f24b12",
   "metadata": {
    "tags": []
   },
   "outputs": [],
   "source": [
    "df21 = pd.read_excel('D:\\projects\\malaria\\malariaKSA\\data\\malariadata.xlsx',\n",
    "                       sheet_name= 3 , header=5 , index_col=1, \n",
    "                    skipfooter= 2)"
   ]
  },
  {
   "cell_type": "code",
   "execution_count": 6,
   "id": "ba3d1413-3b14-46e6-8997-3e144b39a368",
   "metadata": {
    "tags": []
   },
   "outputs": [],
   "source": [
    "df22 = pd.read_excel('D:\\projects\\malaria\\malariaKSA\\data\\malariadata.xlsx',\n",
    "                       sheet_name= 4 , header=5 , index_col=1, \n",
    "                    skipfooter= 2)"
   ]
  },
  {
   "cell_type": "code",
   "execution_count": 7,
   "id": "3f732a8b-e7c4-40c3-be91-b0d49650e938",
   "metadata": {
    "tags": []
   },
   "outputs": [],
   "source": [
    "dfttl = pd.read_excel('D:\\projects\\malaria\\malariaKSA\\data\\malariadata.xlsx',\n",
    "                       sheet_name= 5 , header=5 , index_col=1)"
   ]
  },
  {
   "cell_type": "markdown",
   "id": "038e0fc7-7014-4002-a5e9-71d484afb839",
   "metadata": {
    "tags": []
   },
   "source": [
    "# Cleaning data"
   ]
  },
  {
   "cell_type": "markdown",
   "id": "f50be06b-8a55-452b-b092-c7fad644e046",
   "metadata": {
    "tags": []
   },
   "source": [
    "## Year 2018"
   ]
  },
  {
   "cell_type": "code",
   "execution_count": 8,
   "id": "03600972-9a21-4053-9d0a-7cf826267e0a",
   "metadata": {
    "tags": []
   },
   "outputs": [],
   "source": [
    "df18 = df18.drop(df18.index[0], axis=0)\n",
    "df18 = df18.drop(['Unnamed: 0'], axis = 1)"
   ]
  },
  {
   "cell_type": "code",
   "execution_count": 9,
   "id": "b5edd74e-6a9f-4a78-b273-254d3843f59c",
   "metadata": {
    "tags": []
   },
   "outputs": [],
   "source": [
    "df18 = df18.rename(columns= {'Unnamed: 2':'No.Tested', 'Unnamed: 3' : 'Pos Cases',\n",
    "                      'خبيثة': 'malignant' , 'حميدة': 'Non-malignant',\n",
    "                      'بيضاوية': 'Plasmodium','رباعية':'Quartan',\n",
    "                      'مزدوجة' : 'Double Tertian', 'محلية': 'local'\n",
    "                      ,'من الخارج': 'Alien' , 'غير مصنفة': 'Non-catagorized'\n",
    "                      , 'أخرى' : 'Else'})\n",
    "index = ('Dammam', 'Al-ahssa', 'Al-jowf', \n",
    "         'Northern-Borders', 'Qurayat', \n",
    "         'hafar-albatin', 'Qaseem', 'Riyadh',\n",
    "         'Bishaa', 'Najraan', 'Tabook', 'Hail',\n",
    "         'Madena', 'Taif', 'Mecca', 'Jeddah', \n",
    "         'Allaith', 'Alqunfthah', 'Bahaa', 'Jazaan',\n",
    "         'Aseer', 'Total')\n",
    "\n",
    "# ---------------------------------------\n",
    "\n",
    "index = ('Dammam', 'Al-ahssa', 'Al-jowf', \n",
    "         'Northern-Borders', 'Qurayat', \n",
    "         'hafar-albatin', 'Qaseem', 'Riyadh',\n",
    "         'Bishaa', 'Najraan', 'Tabook', 'Hail',\n",
    "         'Madena', 'Taif', 'Mecca', 'Jeddah', \n",
    "         'Allaith', 'Alqunfthah', 'Bahaa', 'Jazaan',\n",
    "         'Aseer', 'Total')\n",
    "\n",
    "df18diff = df18['No.Tested'] - df18['Pos Cases']\n",
    "df18.insert(loc = 2,\n",
    "          column = 'Neg Casses',\n",
    "          value = df18diff)\n",
    "\n",
    "df18per = df18['Pos Cases'] / df18['No.Tested'] *100\n",
    "df18.insert(loc = 3, \n",
    "            column = '% of Pos',\n",
    "            value = df18per)\n",
    "\n",
    "         \n",
    "df18 = df18.set_index(pd.Index(index))\n",
    "         \n",
    "\n",
    "df18.to_csv(\"cleaned/2018.csv\")"
   ]
  },
  {
   "cell_type": "markdown",
   "id": "41a48e9a-0b2e-46f9-8b3c-4cae7c3ab532",
   "metadata": {
    "tags": []
   },
   "source": [
    "## Year 2019"
   ]
  },
  {
   "cell_type": "code",
   "execution_count": 10,
   "id": "1d2ef0b1-9b18-4954-8693-3548e20326d3",
   "metadata": {},
   "outputs": [],
   "source": [
    "df19 = df19.drop(['Unnamed: 0'], axis=1)\n",
    "df19 = df19.rename(columns= {'Unnamed: 2':'No.Tested', 'Unnamed: 3' : 'Pos Cases',\n",
    "                      'Unnamed: 4': 'malignant' , 'Unnamed: 5': 'Non-malignant',\n",
    "                      'Unnamed: 6': 'Plasmodium','Unnamed: 7':'Quartan',\n",
    "                      'Unnamed: 8' : 'Double Tertian', 'Unnamed: 9': 'local'\n",
    "                      ,'Unnamed: 10': 'Alien' , 'Unnamed: 11': 'Non-catagorized'\n",
    "                      , 'Unnamed: 12' : 'Else'})\n",
    "\n",
    "# ---------------------------------------\n",
    "\n",
    "index = ('Dammam', 'Al-ahssa', 'Al-jowf', \n",
    "         'Northern-Borders', 'Qurayat', \n",
    "         'hafar-albatin', 'Qaseem', 'Riyadh',\n",
    "         'Bishaa', 'Najraan', 'Tabook', 'Hail',\n",
    "         'Madena', 'Taif', 'Mecca', 'Jeddah', \n",
    "         'Allaith', 'Alqunfthah', 'Bahaa', 'Jazaan',\n",
    "         'Aseer', 'Total')\n",
    "\n",
    "df19diff = df19['No.Tested'] - df19['Pos Cases']\n",
    "df19.insert(loc = 2,\n",
    "          column = 'Neg Casses',\n",
    "          value = df19diff)\n",
    "\n",
    "df19per = df19['Pos Cases'] / df19['No.Tested'] *100\n",
    "df19.insert(loc = 3, \n",
    "            column = '% of Pos',\n",
    "            value = df19per)\n",
    "\n",
    "         \n",
    "df19 = df19.set_index(pd.Index(index))\n",
    "         \n",
    "\n",
    "\n",
    "df19.to_csv(\"cleaned/2019.csv\")"
   ]
  },
  {
   "cell_type": "markdown",
   "id": "7bed54a2-ddd4-4938-b6af-f431e14f1d76",
   "metadata": {
    "tags": []
   },
   "source": [
    "## Year 2020"
   ]
  },
  {
   "cell_type": "code",
   "execution_count": 11,
   "id": "5dbeec17-bb81-4213-9504-186e76706e1e",
   "metadata": {},
   "outputs": [],
   "source": [
    "df20 = df20.drop(['Unnamed: 0'], axis=1)\n",
    "df20 = df20.rename(columns= {'Unnamed: 2':'No.Tested', 'Unnamed: 3' : 'Pos Cases',\n",
    "                      'Unnamed: 4': 'malignant' , 'Unnamed: 5': 'Non-malignant',\n",
    "                      'Unnamed: 6': 'Quartan','Unnamed: 7':'Double Tertian',\n",
    "                      'Unnamed: 8' : 'local', 'Unnamed: 9': 'Introduced'\n",
    "                      ,'Unnamed: 10': 'Alien' , 'Unnamed: 11': 'Non-catagorized'\n",
    "                      , 'Unnamed: 12' : 'Else'})\n",
    "\n",
    "# ---------------------------------------\n",
    "\n",
    "index = ('Dammam', 'Al-ahssa', 'Al-jowf', \n",
    "         'Northern-Borders', 'Qurayat', \n",
    "         'hafar-albatin', 'Qaseem', 'Riyadh',\n",
    "         'Bishaa', 'Najraan', 'Tabook', 'Hail',\n",
    "         'Madena', 'Taif', 'Mecca', 'Jeddah', \n",
    "         'Allaith', 'Alqunfthah', 'Bahaa', 'Jazaan',\n",
    "         'Aseer', 'Total')\n",
    "\n",
    "df20diff = df20['No.Tested'] - df18['Pos Cases']\n",
    "df20.insert(loc = 2,\n",
    "          column = 'Neg Casses',\n",
    "          value = df20diff)\n",
    "\n",
    "df20per = df20['Pos Cases'] / df20['No.Tested'] *100\n",
    "df20.insert(loc = 3, \n",
    "            column = '% of Pos',\n",
    "            value = df20per)\n",
    "\n",
    "         \n",
    "df20 = df20.set_index(pd.Index(index))\n",
    "         \n",
    "\n",
    "\n",
    "df20.to_csv(\"cleaned/2020.csv\")"
   ]
  },
  {
   "cell_type": "markdown",
   "id": "8dc24564-e56a-4bf6-8614-74005a7ca74f",
   "metadata": {
    "tags": []
   },
   "source": [
    "## Year 2021"
   ]
  },
  {
   "cell_type": "code",
   "execution_count": 12,
   "id": "45f4df6f-fb4d-4604-8497-84ee16ea6310",
   "metadata": {},
   "outputs": [],
   "source": [
    "df21 = df21.drop(['Unnamed: 0'], axis=1)\n",
    "df21 = df21.rename(columns= {'Unnamed: 2':'No.Tested', 'Unnamed: 3' : 'Pos Cases',\n",
    "                      'Unnamed: 4': 'malignant' , 'Unnamed: 5': 'Non-malignant',\n",
    "                      'Unnamed: 6': 'Plasmodium','Unnamed: 7':'Quartan',\n",
    "                      'Unnamed: 8' : 'Double Tertian', 'Unnamed: 9': 'local'\n",
    "                      ,'Unnamed: 10': 'Introduced' , 'Unnamed: 11': 'Alien'\n",
    "                      , 'Unnamed: 12' : 'Non-catagorized', 'Unnamed: 13' : 'regressive' })\n",
    "\n",
    "# ---------------------------------------\n",
    "\n",
    "index = ('Dammam', 'Al-ahssa', 'Al-jowf', \n",
    "         'Northern-Borders', 'Qurayat', \n",
    "         'hafar-albatin', 'Qaseem', 'Riyadh',\n",
    "         'Bishaa', 'Najraan', 'Tabook', 'Hail',\n",
    "         'Madena', 'Taif', 'Mecca', 'Jeddah', \n",
    "         'Allaith', 'Alqunfthah', 'Bahaa', 'Jazaan',\n",
    "         'Aseer', 'Total')\n",
    "\n",
    "df21diff = df21['No.Tested'] - df21['Pos Cases']\n",
    "df21.insert(loc = 2,\n",
    "          column = 'Neg Casses',\n",
    "          value = df21diff)\n",
    "\n",
    "df21per = df21['Pos Cases'] / df21['No.Tested'] *100\n",
    "df21.insert(loc = 3, \n",
    "            column = '% of Pos',\n",
    "            value = df21per)\n",
    "\n",
    "df21 = df21.set_index(pd.Index(index))\n",
    "\n",
    "df21.to_csv(\"cleaned/2021.csv\")"
   ]
  },
  {
   "cell_type": "markdown",
   "id": "03a9c08e-773f-4ec5-ac24-a88d0667fa0e",
   "metadata": {
    "tags": []
   },
   "source": [
    "## Year 2022"
   ]
  },
  {
   "cell_type": "code",
   "execution_count": 13,
   "id": "b0a9acc1-4ac4-4fa9-a66c-001e0e9e8947",
   "metadata": {
    "tags": []
   },
   "outputs": [],
   "source": [
    "df22 = df22.drop(['Unnamed: 0'], axis=1)\n",
    "df22 = df22.rename(columns= {'Unnamed: 2':'No.Tested','Unnamed: 3':'Pos Cases', 'Unnamed: 4' : '% of Pos',\n",
    "                      'Unnamed: 5': 'malignant' , 'Unnamed: 6': 'Non-malignant',\n",
    "                      'Unnamed: 7': 'Quartan','Unnamed: 8':'double Tertian',\n",
    "                      'Unnamed: 9' : 'Plasmodium', 'Unnamed: 10': 'local'\n",
    "                      ,'Unnamed: 11': 'Introduced' , 'Unnamed: 12': 'Alien'\n",
    "                      , 'Unnamed: 13' : 'Non-catagorized', 'Unnamed: 14' : 'regressive' })\n",
    "# ---------------------------------------\n",
    "\n",
    "index = ('Dammam', 'Al-ahssa', 'Al-jowf', \n",
    "         'Northern-Borders', 'Qurayat', \n",
    "         'hafar-albatin', 'Qaseem', 'Riyadh',\n",
    "         'Bishaa', 'Najraan', 'Tabook', 'Hail',\n",
    "         'Madena', 'Taif', 'Mecca', 'Jeddah', \n",
    "         'Allaith', 'Alqunfthah', 'Bahaa', 'Jazaan',\n",
    "         'Aseer', 'Total')\n",
    "\n",
    "df22diff = df22['No.Tested'] - df22['Pos Cases']\n",
    "df22.insert(loc = 2,\n",
    "          column = 'Neg Casses',\n",
    "          value = df22diff)\n",
    "\n",
    "df22 = df22.set_index(pd.Index(index))\n",
    "\n",
    "df22.to_csv(\"cleaned/2022.csv\")"
   ]
  },
  {
   "cell_type": "markdown",
   "id": "6413f78c-e04e-4b8c-84ac-818ec4a95761",
   "metadata": {
    "tags": []
   },
   "source": [
    "## Total"
   ]
  },
  {
   "cell_type": "code",
   "execution_count": 14,
   "id": "a4b1b12c-d1e1-41bb-a906-48f3144945f3",
   "metadata": {},
   "outputs": [],
   "source": [
    "dfttl = dfttl.drop(['Unnamed: 0'], axis=1)\n",
    "dfttl= dfttl.rename(columns= {'Unnamed: 2':'No.Tested', 'Unnamed: 3' : 'Pos Cases',\n",
    "                      'Unnamed: 4': 'malignant' , 'Unnamed: 5': 'Non-malignant',\n",
    "                      'Unnamed: 6': 'Quartan','Unnamed: 7':'Plasmodium',\n",
    "                      'Unnamed: 8' : 'Double Tertian', 'Unnamed: 9': 'local'\n",
    "                      ,'Unnamed: 10': 'Introduced' , 'Unnamed: 11': 'Alien'\n",
    "                      , 'Unnamed: 12' : 'Non-catagorized', 'Unnamed: 13' : 'regressive' })\n",
    "\n",
    "dfttldiff = dfttl['No.Tested'] - dfttl['Pos Cases']\n",
    "dfttl.insert(loc = 2,\n",
    "          column = 'Neg Casses',\n",
    "          value = dfttldiff)\n",
    "\n",
    "dfttlper = dfttl['Pos Cases'] / dfttl['No.Tested'] *100\n",
    "dfttl.insert(loc = 3, \n",
    "            column = '% of Pos',\n",
    "            value = dfttlper)\n",
    "\n",
    "dfttl.to_csv(\"cleaned/ttl.csv\")"
   ]
  },
  {
   "cell_type": "markdown",
   "id": "539d4c79-da3f-4793-89c0-9e2e2d530a21",
   "metadata": {},
   "source": [
    "# Trend of Positive cases "
   ]
  },
  {
   "cell_type": "code",
   "execution_count": 15,
   "id": "5ca844d1-63b3-4797-87cb-262b9f51a739",
   "metadata": {
    "tags": []
   },
   "outputs": [
    {
     "data": {
      "text/html": [
       "<div>\n",
       "<style scoped>\n",
       "    .dataframe tbody tr th:only-of-type {\n",
       "        vertical-align: middle;\n",
       "    }\n",
       "\n",
       "    .dataframe tbody tr th {\n",
       "        vertical-align: top;\n",
       "    }\n",
       "\n",
       "    .dataframe thead th {\n",
       "        text-align: right;\n",
       "    }\n",
       "</style>\n",
       "<table border=\"1\" class=\"dataframe\">\n",
       "  <thead>\n",
       "    <tr style=\"text-align: right;\">\n",
       "      <th></th>\n",
       "      <th>No.Tested</th>\n",
       "      <th>Pos Cases</th>\n",
       "      <th>Neg Casses</th>\n",
       "      <th>% of Pos</th>\n",
       "      <th>malignant</th>\n",
       "      <th>Non-malignant</th>\n",
       "      <th>Quartan</th>\n",
       "      <th>Plasmodium</th>\n",
       "      <th>Double Tertian</th>\n",
       "      <th>local</th>\n",
       "      <th>Introduced</th>\n",
       "      <th>Alien</th>\n",
       "      <th>Non-catagorized</th>\n",
       "      <th>regressive</th>\n",
       "    </tr>\n",
       "  </thead>\n",
       "  <tbody>\n",
       "    <tr>\n",
       "      <th>2018</th>\n",
       "      <td>1015953</td>\n",
       "      <td>2711</td>\n",
       "      <td>1013242</td>\n",
       "      <td>0.266843</td>\n",
       "      <td>1898</td>\n",
       "      <td>794</td>\n",
       "      <td>8</td>\n",
       "      <td>1</td>\n",
       "      <td>10</td>\n",
       "      <td>194</td>\n",
       "      <td>0</td>\n",
       "      <td>2517</td>\n",
       "      <td>0</td>\n",
       "      <td>0</td>\n",
       "    </tr>\n",
       "    <tr>\n",
       "      <th>2019</th>\n",
       "      <td>1118706</td>\n",
       "      <td>2152</td>\n",
       "      <td>1116554</td>\n",
       "      <td>0.192365</td>\n",
       "      <td>1498</td>\n",
       "      <td>628</td>\n",
       "      <td>10</td>\n",
       "      <td>0</td>\n",
       "      <td>16</td>\n",
       "      <td>38</td>\n",
       "      <td>85</td>\n",
       "      <td>2029</td>\n",
       "      <td>0</td>\n",
       "      <td>0</td>\n",
       "    </tr>\n",
       "    <tr>\n",
       "      <th>2020</th>\n",
       "      <td>703048</td>\n",
       "      <td>3658</td>\n",
       "      <td>699390</td>\n",
       "      <td>0.520306</td>\n",
       "      <td>3231</td>\n",
       "      <td>412</td>\n",
       "      <td>7</td>\n",
       "      <td>0</td>\n",
       "      <td>8</td>\n",
       "      <td>83</td>\n",
       "      <td>122</td>\n",
       "      <td>3453</td>\n",
       "      <td>0</td>\n",
       "      <td>0</td>\n",
       "    </tr>\n",
       "    <tr>\n",
       "      <th>2021</th>\n",
       "      <td>642818</td>\n",
       "      <td>2616</td>\n",
       "      <td>640202</td>\n",
       "      <td>0.406958</td>\n",
       "      <td>2023</td>\n",
       "      <td>480</td>\n",
       "      <td>9</td>\n",
       "      <td>0</td>\n",
       "      <td>104</td>\n",
       "      <td>0</td>\n",
       "      <td>146</td>\n",
       "      <td>2470</td>\n",
       "      <td>0</td>\n",
       "      <td>0</td>\n",
       "    </tr>\n",
       "    <tr>\n",
       "      <th>2022</th>\n",
       "      <td>764822</td>\n",
       "      <td>4319</td>\n",
       "      <td>760503</td>\n",
       "      <td>0.564707</td>\n",
       "      <td>3079</td>\n",
       "      <td>1177</td>\n",
       "      <td>22</td>\n",
       "      <td>2</td>\n",
       "      <td>39</td>\n",
       "      <td>0</td>\n",
       "      <td>274</td>\n",
       "      <td>4045</td>\n",
       "      <td>0</td>\n",
       "      <td>0</td>\n",
       "    </tr>\n",
       "  </tbody>\n",
       "</table>\n",
       "</div>"
      ],
      "text/plain": [
       "      No.Tested  Pos Cases  Neg Casses  % of Pos  malignant  Non-malignant  \\\n",
       "2018    1015953       2711     1013242  0.266843       1898            794   \n",
       "2019    1118706       2152     1116554  0.192365       1498            628   \n",
       "2020     703048       3658      699390  0.520306       3231            412   \n",
       "2021     642818       2616      640202  0.406958       2023            480   \n",
       "2022     764822       4319      760503  0.564707       3079           1177   \n",
       "\n",
       "      Quartan  Plasmodium  Double Tertian  local  Introduced  Alien  \\\n",
       "2018        8           1              10    194           0   2517   \n",
       "2019       10           0              16     38          85   2029   \n",
       "2020        7           0               8     83         122   3453   \n",
       "2021        9           0             104      0         146   2470   \n",
       "2022       22           2              39      0         274   4045   \n",
       "\n",
       "      Non-catagorized  regressive  \n",
       "2018                0           0  \n",
       "2019                0           0  \n",
       "2020                0           0  \n",
       "2021                0           0  \n",
       "2022                0           0  "
      ]
     },
     "execution_count": 15,
     "metadata": {},
     "output_type": "execute_result"
    }
   ],
   "source": [
    "dfttl"
   ]
  }
 ],
 "metadata": {
  "kernelspec": {
   "display_name": "Python 3 (ipykernel)",
   "language": "python",
   "name": "python3"
  },
  "language_info": {
   "codemirror_mode": {
    "name": "ipython",
    "version": 3
   },
   "file_extension": ".py",
   "mimetype": "text/x-python",
   "name": "python",
   "nbconvert_exporter": "python",
   "pygments_lexer": "ipython3",
   "version": "3.11.4"
  }
 },
 "nbformat": 4,
 "nbformat_minor": 5
}
