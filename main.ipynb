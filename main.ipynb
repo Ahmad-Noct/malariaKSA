{
 "cells": [
  {
   "cell_type": "markdown",
   "id": "916bbc76-afa7-45ff-81d2-2ce04f6fad0a",
   "metadata": {
    "tags": []
   },
   "source": [
    "## Preparing python"
   ]
  },
  {
   "cell_type": "code",
   "execution_count": 1,
   "id": "74bbbe1f-2cf4-4fd5-9cc3-c55c12ffe3b0",
   "metadata": {
    "tags": []
   },
   "outputs": [],
   "source": [
    "import pandas as pd , numpy as np \n",
    "import matplotlib.pyplot as plt\n",
    "from matplotlib import rc, pyplot as plt"
   ]
  },
  {
   "cell_type": "markdown",
   "id": "c30847b9-e91a-4dea-9d4b-0d0bf147ebe7",
   "metadata": {
    "jp-MarkdownHeadingCollapsed": true,
    "tags": []
   },
   "source": [
    "### Reading main dataframe"
   ]
  },
  {
   "cell_type": "code",
   "execution_count": 2,
   "id": "d85f7746-17ba-4ec8-b622-9eb97755066c",
   "metadata": {
    "tags": []
   },
   "outputs": [],
   "source": [
    "df18 = pd.read_excel('D:\\projects\\malaria\\malariaKSA\\data\\malariadata.xlsx',\n",
    "                       sheet_name= 0 , header=5 , index_col=1, \n",
    "                     skipfooter= 2 )"
   ]
  },
  {
   "cell_type": "code",
   "execution_count": 3,
   "id": "9b14731f-3ed1-4c24-8091-ce964db20e8e",
   "metadata": {
    "tags": []
   },
   "outputs": [],
   "source": [
    "df19 = pd.read_excel('D:\\projects\\malaria\\malariaKSA\\data\\malariadata.xlsx',\n",
    "                       sheet_name= 1 , header=5 , index_col=1, \n",
    "                    skipfooter= 2)"
   ]
  },
  {
   "cell_type": "code",
   "execution_count": 4,
   "id": "11bc82c9-80a9-4ea3-a1bc-d093050d5ab1",
   "metadata": {
    "tags": []
   },
   "outputs": [],
   "source": [
    "df20 = pd.read_excel('D:\\projects\\malaria\\malariaKSA\\data\\malariadata.xlsx',\n",
    "                       sheet_name= 2 , header=6 , index_col=1, \n",
    "                    skipfooter= 2)"
   ]
  },
  {
   "cell_type": "code",
   "execution_count": 5,
   "id": "373123bb-118e-44b8-9a44-744947f24b12",
   "metadata": {
    "tags": []
   },
   "outputs": [],
   "source": [
    "df21 = pd.read_excel('D:\\projects\\malaria\\malariaKSA\\data\\malariadata.xlsx',\n",
    "                       sheet_name= 3 , header=5 , index_col=1, \n",
    "                    skipfooter= 2)"
   ]
  },
  {
   "cell_type": "code",
   "execution_count": 6,
   "id": "ba3d1413-3b14-46e6-8997-3e144b39a368",
   "metadata": {
    "tags": []
   },
   "outputs": [],
   "source": [
    "df22 = pd.read_excel('D:\\projects\\malaria\\malariaKSA\\data\\malariadata.xlsx',\n",
    "                       sheet_name= 4 , header=5 , index_col=1, \n",
    "                    skipfooter= 2)"
   ]
  },
  {
   "cell_type": "code",
   "execution_count": 7,
   "id": "3f732a8b-e7c4-40c3-be91-b0d49650e938",
   "metadata": {
    "tags": []
   },
   "outputs": [],
   "source": [
    "dfttl = pd.read_excel('D:\\projects\\malaria\\malariaKSA\\data\\malariadata.xlsx',\n",
    "                       sheet_name= 5 , header=5 , index_col=1)"
   ]
  },
  {
   "cell_type": "markdown",
   "id": "038e0fc7-7014-4002-a5e9-71d484afb839",
   "metadata": {
    "tags": []
   },
   "source": [
    "# Cleaning data"
   ]
  },
  {
   "cell_type": "markdown",
   "id": "f50be06b-8a55-452b-b092-c7fad644e046",
   "metadata": {
    "tags": []
   },
   "source": [
    "## Year 2018"
   ]
  },
  {
   "cell_type": "code",
   "execution_count": 8,
   "id": "03600972-9a21-4053-9d0a-7cf826267e0a",
   "metadata": {
    "tags": []
   },
   "outputs": [],
   "source": [
    "df18 = df18.drop(df18.index[0], axis=0)\n",
    "df18 = df18.drop(['Unnamed: 0'], axis = 1)"
   ]
  },
  {
   "cell_type": "code",
   "execution_count": 9,
   "id": "b5edd74e-6a9f-4a78-b273-254d3843f59c",
   "metadata": {
    "tags": []
   },
   "outputs": [],
   "source": [
    "df18 = df18.rename(columns= {'Unnamed: 2':'No.Tested', 'Unnamed: 3' : 'Pos Casses',\n",
    "                      'خبيثة': 'malignant' , 'حميدة': 'Non-malignant',\n",
    "                      'بيضاوية': 'Plasmodium','رباعية':'Quartan',\n",
    "                      'مزدوجة' : 'Double Tertian', 'محلية': 'local'\n",
    "                      ,'من الخارج': 'Alien' , 'غير مصنفة': 'Non-catagorized'\n",
    "                      , 'أخرى' : 'Else'})\n",
    "index = ('Dammam', 'Al-ahssa', 'Al-jowf', \n",
    "         'Northern-Borders', 'Qurayat', \n",
    "         'hafar-albatin', 'Qaseem', 'Riyadh',\n",
    "         'Bishaa', 'Najraan', 'Tabook', 'Hail',\n",
    "         'Madena', 'Taif', 'Mecca', 'Jeddah', \n",
    "         'Allaith', 'Alqunfthah', 'Bahaa', 'Jazaan',\n",
    "         'Aseer', 'Total')\n",
    "\n",
    "# ---------------------------------------\n",
    "\n",
    "index = ('Dammam', 'Al-ahssa', 'Al-jowf', \n",
    "         'Northern-Borders', 'Qurayat', \n",
    "         'hafar-albatin', 'Qaseem', 'Riyadh',\n",
    "         'Bishaa', 'Najraan', 'Tabook', 'Hail',\n",
    "         'Madena', 'Taif', 'Mecca', 'Jeddah', \n",
    "         'Allaith', 'Alqunfthah', 'Bahaa', 'Jazaan',\n",
    "         'Aseer', 'Total')\n",
    "\n",
    "df18diff = df18['No.Tested'] - df18['Pos Casses']\n",
    "df18.insert(loc = 2,\n",
    "          column = 'Neg Casses',\n",
    "          value = df18diff)\n",
    "\n",
    "df18per = df18['Pos Casses'] / df18['No.Tested'] *100\n",
    "df18.insert(loc = 3, \n",
    "            column = '% of Pos',\n",
    "            value = df18per)\n",
    "\n",
    "         \n",
    "df18 = df18.set_index(pd.Index(index))\n",
    "         \n",
    "\n",
    "df18.to_csv(\"cleaned/2018.csv\")"
   ]
  },
  {
   "cell_type": "markdown",
   "id": "41a48e9a-0b2e-46f9-8b3c-4cae7c3ab532",
   "metadata": {
    "tags": []
   },
   "source": [
    "## Year 2019"
   ]
  },
  {
   "cell_type": "code",
   "execution_count": 10,
   "id": "1d2ef0b1-9b18-4954-8693-3548e20326d3",
   "metadata": {},
   "outputs": [],
   "source": [
    "df19 = df19.drop(['Unnamed: 0'], axis=1)\n",
    "df19 = df19.rename(columns= {'Unnamed: 2':'No.Tested', 'Unnamed: 3' : 'Pos Casses',\n",
    "                      'Unnamed: 4': 'malignant' , 'Unnamed: 5': 'Non-malignant',\n",
    "                      'Unnamed: 6': 'Plasmodium','Unnamed: 7':'Quartan',\n",
    "                      'Unnamed: 8' : 'Double Tertian', 'Unnamed: 9': 'local'\n",
    "                      ,'Unnamed: 10': 'Alien' , 'Unnamed: 11': 'Non-catagorized'\n",
    "                      , 'Unnamed: 12' : 'Else'})\n",
    "\n",
    "# ---------------------------------------\n",
    "\n",
    "index = ('Dammam', 'Al-ahssa', 'Al-jowf', \n",
    "         'Northern-Borders', 'Qurayat', \n",
    "         'hafar-albatin', 'Qaseem', 'Riyadh',\n",
    "         'Bishaa', 'Najraan', 'Tabook', 'Hail',\n",
    "         'Madena', 'Taif', 'Mecca', 'Jeddah', \n",
    "         'Allaith', 'Alqunfthah', 'Bahaa', 'Jazaan',\n",
    "         'Aseer', 'Total')\n",
    "\n",
    "df19diff = df19['No.Tested'] - df19['Pos Casses']\n",
    "df19.insert(loc = 2,\n",
    "          column = 'Neg Casses',\n",
    "          value = df19diff)\n",
    "\n",
    "df19per = df19['Pos Casses'] / df19['No.Tested'] *100\n",
    "df19.insert(loc = 3, \n",
    "            column = '% of Pos',\n",
    "            value = df19per)\n",
    "\n",
    "         \n",
    "df19 = df19.set_index(pd.Index(index))\n",
    "         \n",
    "\n",
    "\n",
    "df19.to_csv(\"cleaned/2019.csv\")"
   ]
  },
  {
   "cell_type": "markdown",
   "id": "7bed54a2-ddd4-4938-b6af-f431e14f1d76",
   "metadata": {
    "tags": []
   },
   "source": [
    "## Year 2020"
   ]
  },
  {
   "cell_type": "code",
   "execution_count": 11,
   "id": "5dbeec17-bb81-4213-9504-186e76706e1e",
   "metadata": {},
   "outputs": [],
   "source": [
    "df20 = df20.drop(['Unnamed: 0'], axis=1)\n",
    "df20 = df20.rename(columns= {'Unnamed: 2':'No.Tested', 'Unnamed: 3' : 'Pos Casses',\n",
    "                      'Unnamed: 4': 'malignant' , 'Unnamed: 5': 'Non-malignant',\n",
    "                      'Unnamed: 6': 'Quartan','Unnamed: 7':'Double Tertian',\n",
    "                      'Unnamed: 8' : 'local', 'Unnamed: 9': 'Introduced'\n",
    "                      ,'Unnamed: 10': 'Alien' , 'Unnamed: 11': 'Non-catagorized'\n",
    "                      , 'Unnamed: 12' : 'Else'})\n",
    "\n",
    "# ---------------------------------------\n",
    "\n",
    "index = ('Dammam', 'Al-ahssa', 'Al-jowf', \n",
    "         'Northern-Borders', 'Qurayat', \n",
    "         'hafar-albatin', 'Qaseem', 'Riyadh',\n",
    "         'Bishaa', 'Najraan', 'Tabook', 'Hail',\n",
    "         'Madena', 'Taif', 'Mecca', 'Jeddah', \n",
    "         'Allaith', 'Alqunfthah', 'Bahaa', 'Jazaan',\n",
    "         'Aseer', 'Total')\n",
    "\n",
    "df20diff = df20['No.Tested'] - df20['Pos Casses']\n",
    "df20.insert(loc = 2,\n",
    "          column = 'Neg Casses',\n",
    "          value = df20diff)\n",
    "\n",
    "df20per = df20['Pos Casses'] / df20['No.Tested'] *100\n",
    "df20.insert(loc = 3, \n",
    "            column = '% of Pos',\n",
    "            value = df20per)\n",
    "\n",
    "         \n",
    "df20 = df20.set_index(pd.Index(index))\n",
    "         \n",
    "\n",
    "\n",
    "df20.to_csv(\"cleaned/2020.csv\")"
   ]
  },
  {
   "cell_type": "markdown",
   "id": "8dc24564-e56a-4bf6-8614-74005a7ca74f",
   "metadata": {
    "tags": []
   },
   "source": [
    "## Year 2021"
   ]
  },
  {
   "cell_type": "code",
   "execution_count": 12,
   "id": "45f4df6f-fb4d-4604-8497-84ee16ea6310",
   "metadata": {},
   "outputs": [],
   "source": [
    "df21 = df21.drop(['Unnamed: 0'], axis=1)\n",
    "df21 = df21.rename(columns= {'Unnamed: 2':'No.Tested', 'Unnamed: 3' : 'Pos Casses',\n",
    "                      'Unnamed: 4': 'malignant' , 'Unnamed: 5': 'Non-malignant',\n",
    "                      'Unnamed: 6': 'Plasmodium','Unnamed: 7':'Quartan',\n",
    "                      'Unnamed: 8' : 'Double Tertian', 'Unnamed: 9': 'local'\n",
    "                      ,'Unnamed: 10': 'Introduced' , 'Unnamed: 11': 'Alien'\n",
    "                      , 'Unnamed: 12' : 'Non-catagorized', 'Unnamed: 13' : 'regressive' })\n",
    "\n",
    "# ---------------------------------------\n",
    "\n",
    "index = ('Dammam', 'Al-ahssa', 'Al-jowf', \n",
    "         'Northern-Borders', 'Qurayat', \n",
    "         'hafar-albatin', 'Qaseem', 'Riyadh',\n",
    "         'Bishaa', 'Najraan', 'Tabook', 'Hail',\n",
    "         'Madena', 'Taif', 'Mecca', 'Jeddah', \n",
    "         'Allaith', 'Alqunfthah', 'Bahaa', 'Jazaan',\n",
    "         'Aseer', 'Total')\n",
    "\n",
    "df21diff = df21['No.Tested'] - df21['Pos Casses']\n",
    "df21.insert(loc = 2,\n",
    "          column = 'Neg Casses',\n",
    "          value = df21diff)\n",
    "\n",
    "df21per = df21['Pos Casses'] / df21['No.Tested'] *100\n",
    "df21.insert(loc = 3, \n",
    "            column = '% of Pos',\n",
    "            value = df21per)\n",
    "\n",
    "df21 = df21.set_index(pd.Index(index))\n",
    "\n",
    "df21.to_csv(\"cleaned/2021.csv\")"
   ]
  },
  {
   "cell_type": "markdown",
   "id": "03a9c08e-773f-4ec5-ac24-a88d0667fa0e",
   "metadata": {
    "tags": []
   },
   "source": [
    "## Year 2022"
   ]
  },
  {
   "cell_type": "code",
   "execution_count": 13,
   "id": "b0a9acc1-4ac4-4fa9-a66c-001e0e9e8947",
   "metadata": {
    "tags": []
   },
   "outputs": [],
   "source": [
    "df22 = df22.drop(['Unnamed: 0'], axis=1)\n",
    "df22 = df22.rename(columns= {'Unnamed: 2':'No.Tested','Unnamed: 3':'Pos Casses', 'Unnamed: 4' : '% of Pos',\n",
    "                      'Unnamed: 5': 'malignant' , 'Unnamed: 6': 'Non-malignant',\n",
    "                      'Unnamed: 7': 'Quartan','Unnamed: 8':'Double Tertian',\n",
    "                      'Unnamed: 9' : 'Plasmodium', 'Unnamed: 10': 'local'\n",
    "                      ,'Unnamed: 11': 'Introduced' , 'Unnamed: 12': 'Alien'\n",
    "                      , 'Unnamed: 13' : 'Non-catagorized', 'Unnamed: 14' : 'regressive' })\n",
    "# ---------------------------------------\n",
    "\n",
    "index = ('Dammam', 'Al-ahssa', 'Al-jowf', \n",
    "         'Northern-Borders', 'Qurayat', \n",
    "         'hafar-albatin', 'Qaseem', 'Riyadh',\n",
    "         'Bishaa', 'Najraan', 'Tabook', 'Hail',\n",
    "         'Madena', 'Taif', 'Mecca', 'Jeddah', \n",
    "         'Allaith', 'Alqunfthah', 'Bahaa', 'Jazaan',\n",
    "         'Aseer', 'Total')\n",
    "\n",
    "df22diff = df22['No.Tested'] - df22['Pos Casses']\n",
    "df22.insert(loc = 2,\n",
    "          column = 'Neg Casses',\n",
    "          value = df22diff)\n",
    "\n",
    "df22 = df22.set_index(pd.Index(index))\n",
    "\n",
    "df22.to_csv(\"cleaned/2022.csv\")"
   ]
  },
  {
   "cell_type": "markdown",
   "id": "6413f78c-e04e-4b8c-84ac-818ec4a95761",
   "metadata": {
    "tags": []
   },
   "source": [
    "## Total"
   ]
  },
  {
   "cell_type": "code",
   "execution_count": 14,
   "id": "a4b1b12c-d1e1-41bb-a906-48f3144945f3",
   "metadata": {},
   "outputs": [],
   "source": [
    "dfttl = dfttl.drop(['Unnamed: 0'], axis=1)\n",
    "dfttl= dfttl.rename(columns= {'Unnamed: 2':'No.Tested', 'Unnamed: 3' : 'Pos Casses',\n",
    "                      'Unnamed: 4': 'malignant' , 'Unnamed: 5': 'Non-malignant',\n",
    "                      'Unnamed: 6': 'Quartan','Unnamed: 7':'Plasmodium',\n",
    "                      'Unnamed: 8' : 'Double Tertian', 'Unnamed: 9': 'local'\n",
    "                      ,'Unnamed: 10': 'Introduced' , 'Unnamed: 11': 'Alien'\n",
    "                      , 'Unnamed: 12' : 'Non-catagorized', 'Unnamed: 13' : 'regressive' })\n",
    "\n",
    "dfttldiff = dfttl['No.Tested'] - dfttl['Pos Casses']\n",
    "dfttl.insert(loc = 2,\n",
    "          column = 'Neg Casses',\n",
    "          value = dfttldiff)\n",
    "\n",
    "dfttlper = dfttl['Pos Casses'] / dfttl['No.Tested'] *100\n",
    "dfttl.insert(loc = 3, \n",
    "            column = '% of Pos',\n",
    "            value = dfttlper)\n",
    "\n",
    "dfttl.to_csv(\"cleaned/ttl.csv\")"
   ]
  },
  {
   "cell_type": "markdown",
   "id": "539d4c79-da3f-4793-89c0-9e2e2d530a21",
   "metadata": {},
   "source": [
    "# Creating a Dataframe for each province"
   ]
  },
  {
   "cell_type": "markdown",
   "id": "f62f14b3-16ca-456c-b4c7-7cc8e9172e1b",
   "metadata": {
    "tags": []
   },
   "source": [
    "## Dammam"
   ]
  },
  {
   "cell_type": "code",
   "execution_count": 15,
   "id": "a7f570f5-9d90-41e5-b8e8-aa18c362dcfa",
   "metadata": {
    "tags": []
   },
   "outputs": [],
   "source": [
    "dammamdf = pd.DataFrame(columns=['No.Tested', 'Pos Casses',\n",
    "                                 'Neg Casses', '% of Pos',\n",
    "                                 'malignant', 'Non-malignant',\n",
    "                                 'Quartan', 'Double Tertian',\n",
    "                                 'Plasmodium', 'local',\n",
    "                                 'Introduced', 'Alien',\n",
    "                                 'Non-catagorized', 'regressive'])\n",
    "\n",
    "dammamdf.loc['2018'] = df18.loc['Dammam']\n",
    "dammamdf.loc['2019'] = df19.loc['Dammam']\n",
    "dammamdf.loc['2020'] = df20.loc['Dammam']\n",
    "dammamdf.loc['2021'] = df21.loc['Dammam']\n",
    "dammamdf.loc['2022'] = df22.loc['Dammam']\n",
    "\n",
    "dammamdf = dammamdf.fillna(0)\n",
    "\n",
    "dammamdf.to_csv(\"province/dammam.csv\")"
   ]
  },
  {
   "cell_type": "markdown",
   "id": "a8779294-332d-43d3-9c59-c2d223a22d6b",
   "metadata": {
    "tags": []
   },
   "source": [
    "## Al-ahssa"
   ]
  },
  {
   "cell_type": "code",
   "execution_count": 15,
   "id": "854dd5a3-83d7-4a73-8bcb-1a34e3476d93",
   "metadata": {
    "tags": []
   },
   "outputs": [],
   "source": [
    "dammamdf = pd.DataFrame(columns=['No.Tested', 'Pos Casses',\n",
    "                                 'Neg Casses', '% of Pos',\n",
    "                                 'malignant', 'Non-malignant',\n",
    "                                 'Quartan', 'Double Tertian',\n",
    "                                 'Plasmodium', 'local',\n",
    "                                 'Introduced', 'Alien',\n",
    "                                 'Non-catagorized', 'regressive'])\n",
    "\n",
    "dammamdf.loc['2018'] = df18.loc['Dammam']\n",
    "dammamdf.loc['2019'] = df19.loc['Dammam']\n",
    "dammamdf.loc['2020'] = df20.loc['Dammam']\n",
    "dammamdf.loc['2021'] = df21.loc['Dammam']\n",
    "dammamdf.loc['2022'] = df22.loc['Dammam']\n",
    "\n",
    "dammamdf = dammamdf.fillna(0)\n",
    "\n",
    "dammamdf.to_csv(\"province/dammam.csv\")"
   ]
  },
  {
   "cell_type": "markdown",
   "id": "cd31062b-8b9e-40f7-b5ba-dcc88de72548",
   "metadata": {},
   "source": [
    "# Visualizing each Province"
   ]
  },
  {
   "cell_type": "markdown",
   "id": "feb219d1-0c6a-4d52-aa50-355384ea3ab4",
   "metadata": {
    "tags": []
   },
   "source": [
    "## Dammam"
   ]
  },
  {
   "cell_type": "code",
   "execution_count": 18,
   "id": "2e8b6e19-0f0f-4f44-9412-ae48c4674070",
   "metadata": {
    "tags": []
   },
   "outputs": [
    {
     "data": {
      "image/png": "[encoded data removed]",
      "text/plain": [
       "<Figure size 1000x1200 with 4 Axes>"
      ]
     },
     "metadata": {},
     "output_type": "display_data"
    }
   ],
   "source": [
    "fig, axes = plt.subplots(figsize=(10,12), nrows=2, ncols=2)\n",
    "\n",
    "dammamdf[\"No.Tested\"].plot(ax=axes[0,0], kind='bar', color = 'orange'\n",
    "                            , xlabel = 'Year', title = 'No.Casses')\n",
    "dammamdf[\"Pos Casses\"].plot(ax=axes[0,1], kind='bar', color = 'Green'\n",
    "                            , xlabel = 'Year', title = 'Positive Casses')\n",
    "dammamdf[\"Neg Casses\"].plot(ax=axes[1,0], kind='bar', color = 'Red'\n",
    "                            , xlabel = 'Year', title = 'No.Casses')\n",
    "dammamdf[\"% of Pos\"].plot(ax=axes[1,1], color = 'Pink'\n",
    "                            , xlabel = 'Year', title = '% of Positive casses', grid = True)\n",
    "fig.savefig('province_graph/dammamsub.png')"
   ]
  },
  {
   "cell_type": "code",
   "execution_count": 17,
   "id": "6d285209-60b1-4c7a-98b0-bbb2df4dfe23",
   "metadata": {
    "tags": []
   },
   "outputs": [
    {
     "data": {
      "image/png": "[encoded data removed]",
      "text/plain": [
       "<Figure size 640x480 with 1 Axes>"
      ]
     },
     "metadata": {},
     "output_type": "display_data"
    }
   ],
   "source": [
    "dammamdf[['malignant','Non-malignant','Quartan','Double Tertian','Plasmodium']].plot(kind = 'bar', stacked = True, xlabel = 'Years' , \n",
    "                                                                                    title = 'Types', ylabel = 'Number of Casses')\n",
    "fig.savefig('province_graph/dammamtypes.png')"
   ]
  }
 ],
 "metadata": {
  "kernelspec": {
   "display_name": "Python 3 (ipykernel)",
   "language": "python",
   "name": "python3"
  },
  "language_info": {
   "codemirror_mode": {
    "name": "ipython",
    "version": 3
   },
   "file_extension": ".py",
   "mimetype": "text/x-python",
   "name": "python",
   "nbconvert_exporter": "python",
   "pygments_lexer": "ipython3",
   "version": "3.11.4"
  }
 },
 "nbformat": 4,
 "nbformat_minor": 5
}
